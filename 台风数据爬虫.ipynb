{
 "cells": [
  {
   "cell_type": "code",
   "execution_count": null,
   "id": "71f728df",
   "metadata": {},
   "outputs": [],
   "source": [
    "import geopandas as gpd\n",
    "from shapely.geometry import Point\n",
    "from geopandas import GeoDataFrame\n",
    "import pandas as pd\n",
    "import requests\n",
    "import re\n",
    "from lxml import etree\n",
    "from pyproj import CRS\n",
    "#爬取数据\n",
    "china = gpd.read_file('/Users/jocelynli/Library/CloudStorage/OneDrive-stu.ecnu.edu.cn/ECNU/大三上/地理信息系统底层开发/期末作业/data/China/China.shp')\n",
    "pr=china['省份'].tolist()\n",
    "file_list=[] #用于存储爬取的数据名称\n",
    "pr_affected=[] #用于存储每次台风影响的省\n",
    "url = \"http://agora.ex.nii.ac.jp/cgi-bin/dt/search_name2.pl?lang=en&basin=wnp&smp=1&sdp=1&emp=12&edp=31\"\n",
    "response = requests.get(url)\n",
    "response.encoding = 'utf8'\n",
    "html = response.text\n",
    "d = re.findall(r'<td><a href=\"/digital-typhoon/summary/wnp/s/(.*?)\">',html,re.S) # 搜索所有的台风信息\n",
    "for p in d: #遍历所有的台风网页\n",
    "    id = p[:6]  #获取台风的ID\n",
    "    if int(id) >= 200001: #筛选出2000-的所有台风\n",
    "        p_url = 'http://agora.ex.nii.ac.jp/digital-typhoon/summary/wnp/k/' + id  # 台风轨迹信息\n",
    "        response_1 = requests.get(p_url)\n",
    "        html_1 = etree.HTML(response_1.text)\n",
    "        table = html_1 .xpath('//table[@class=\"TRACKINFO\"]')\n",
    "        table = etree.tostring(table[0], encoding='utf-8').decode()\n",
    "        df = pd.read_html(table, encoding='utf-8', header=0)[0]\n",
    "        df = df.iloc[:, :6] #删除无用列\n",
    "        column=['Year','Month','Day','Hour','Lat','Lon'] #添加列名\n",
    "        df.columns=column\n",
    "        df['Id'] = id\n",
    "        points = [Point(lon, lat) for lon, lat in zip(df['Lon'], df['Lat'])] #获取该次台风的各时间台风中心的经纬度数据\n",
    "        buffered_points = [point.buffer(300/111) for point in points] #设置缓冲区，缓冲区半径为台风7级风圈300km，由于坐标系为EPSG:4326，所以buffer半径的单位为度，1度约为111km\n",
    "        geometries = GeoDataFrame(geometry=buffered_points)\n",
    "        geometries.set_crs('EPSG:4326', inplace=True)\n",
    "        intersected = gpd.overlay(geometries, china, how='intersection') #获取台风影响范围和江浙沪城市的重合部分\n",
    "        if not intersected.empty: #若台风7级风圈与研究区有重合范围，则保存该台风数据\n",
    "            df.to_excel(f'/Users/jocelynli/Library/CloudStorage/OneDrive-stu.ecnu.edu.cn/ECNU/大三上/地理信息系统底层开发/期末作业/data/台风excel/{id}.xlsx', index = False)\n",
    "            geometry = [Point(lon, lat) for lon, lat in zip(df['Lon'], df['Lat'])]\n",
    "            gdf = gpd.GeoDataFrame(df, geometry=geometry, crs='EPSG:4326')\n",
    "            gdf.to_file(f'/Users/jocelynli/Library/CloudStorage/OneDrive-stu.ecnu.edu.cn/ECNU/大三上/地理信息系统底层开发/期末作业/data/台风shp/{id}.shp', driver='ESRI Shapefile')\n",
    "            print(f'{id} Done.')\n",
    "            affected_pr = list(set(intersected['省份'].tolist())) #获取受到该台风影响的省份，删除其中的重复值\n",
    "            pr_affected.append(affected_pr)\n",
    "    counts = {} #用于统计每个城市10年间过境的台风个数\n",
    "    for m in pr_affected:\n",
    "        for n in m:\n",
    "            if n in counts:\n",
    "                counts[n] += 1\n",
    "            else:\n",
    "                counts[n] = 1\n",
    "    counts = dict(sorted(counts.items(), key=lambda x: x[0]))"
   ]
  }
 ],
 "metadata": {
  "kernelspec": {
   "display_name": "Python 3 (ipykernel)",
   "language": "python",
   "name": "python3"
  },
  "language_info": {
   "codemirror_mode": {
    "name": "ipython",
    "version": 3
   },
   "file_extension": ".py",
   "mimetype": "text/x-python",
   "name": "python",
   "nbconvert_exporter": "python",
   "pygments_lexer": "ipython3",
   "version": "3.8.8"
  }
 },
 "nbformat": 4,
 "nbformat_minor": 5
}
